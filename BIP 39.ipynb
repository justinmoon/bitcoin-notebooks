{
 "cells": [
  {
   "cell_type": "markdown",
   "metadata": {},
   "source": [
    "### BIP 39 Reference:\n",
    "* [The BIP](https://github.com/bitcoin/bips/blob/master/bip-0039.mediawiki)\n",
    "* [Original Python Reference Implementation](https://github.com/trezor/python-mnemonic/blob/master/mnemonic/mnemonic.py)\n",
    "* [Go](https://github.com/tyler-smith/go-bip39)\n",
    "* [Javascript](https://github.com/iancoleman/jsbip39/blob/master/jsbip39.js)\n",
    "* [Blog Post](https://jmcintyre.net/?p=180)\n",
    "* [bitcoinlib-js](https://github.com/bitcoinjs/bip39/blob/master/index.js#L93) has the cleanest implementation."
   ]
  },
  {
   "cell_type": "code",
   "execution_count": 102,
   "metadata": {},
   "outputs": [],
   "source": [
    "import requests, os, binascii, hashlib, unicodedata, pbkdf2, hmac"
   ]
  },
  {
   "cell_type": "markdown",
   "metadata": {},
   "source": [
    "# Grab English Wordlist From BIP Git Repo"
   ]
  },
  {
   "cell_type": "code",
   "execution_count": 30,
   "metadata": {},
   "outputs": [],
   "source": [
    "english_wordlist_url = \"https://raw.githubusercontent.com/bitcoin/bips/master/bip-0039/english.txt\"\n",
    "response = requests.get(english_wordlist_url)\n",
    "wordlist = response.text.splitlines()\n",
    "assert len(wordlist) == 2048"
   ]
  },
  {
   "cell_type": "markdown",
   "metadata": {},
   "source": [
    "# Produce Mnemonic From Random Bytes"
   ]
  },
  {
   "cell_type": "code",
   "execution_count": 87,
   "metadata": {},
   "outputs": [],
   "source": [
    "def generate_entropy(n):\n",
    "    return os.urandom(n)\n",
    "\n",
    "def mnemonic_from_entropy(entropy_bytes):\n",
    "    entropy_bits_length = len(entropy_bytes) * 8\n",
    "    checksum_bits_length = entropy_bits_length // 32\n",
    "    sequence_length = (entropy_bits_length + checksum_bits_length) // 11\n",
    "    \n",
    "    # Prepare entropy bits\n",
    "    entropy_bits = bin(int(binascii.hexlify(entropy), 16))[2:]\n",
    "    padded_entropy_bits = entropy_bits.zfill(entropy_bits_length)\n",
    "    \n",
    "    # Prepare checksum\n",
    "    entropy_hash = hashlib.sha256(entropy).hexdigest()\n",
    "    entropy_hash_int = int(entropy_hash, 16)\n",
    "    entropy_hash_bits = bin(int(entropy_hash, 16))[2:]\n",
    "    padded_entropy_hash_bits = entropy_hash_bits.zfill(256)\n",
    "    checksum = padded_entropy_hash_bits[:checksum_bits_length]\n",
    "    \n",
    "    # Take 11 bit slices of padded_entropy_bits + checksum\n",
    "    # Interpret as int, pluck work from wordlist at this index\n",
    "    sequence = padded_entropy_bits + checksum\n",
    "    result = []\n",
    "    for i in range(sequence_length):\n",
    "        index = int(sequence[i * 11:(i + 1) * 11], 2)\n",
    "        result.append(wordlist[index])\n",
    "    return \" \".join(result)"
   ]
  },
  {
   "cell_type": "code",
   "execution_count": 88,
   "metadata": {},
   "outputs": [
    {
     "data": {
      "text/plain": [
       "b'\\x93Zi\\xc6s40\\x19$\\x1b\\x06\\xdfQ\\x97\\r\\x15\\xe8\\x00\\x95A\\xbb\\x8dNQ\\xb3\\xc9\\x86\\xfe\\x1b\\x8d\\xdb!'"
      ]
     },
     "execution_count": 88,
     "metadata": {},
     "output_type": "execute_result"
    }
   ],
   "source": [
    "entropy = generate_entropy(32)\n",
    "entropy"
   ]
  },
  {
   "cell_type": "code",
   "execution_count": 110,
   "metadata": {},
   "outputs": [
    {
     "data": {
      "text/plain": [
       "'nation spy immense toy drink arrive motor general tent million select cloth length enjoy alone immune exact mirror venue assume ticket shoulder hold dance'"
      ]
     },
     "execution_count": 110,
     "metadata": {},
     "output_type": "execute_result"
    }
   ],
   "source": [
    "mnemonic = mnemonic_from_entropy(entropy)\n",
    "mnemonic"
   ]
  },
  {
   "cell_type": "markdown",
   "metadata": {},
   "source": [
    "# Produce Seed From Mnemonic\n",
    "\n",
    "BIP 39 uses a the PBKDF2 key-stretching algorithm to take the mnemonic seed (128, 192, or 256 bits) and a passphrase and produce a 512 bit \"seed\" which is then used to create BIP 32 HD Wallets.\n",
    "\n",
    "[Here's a nice video about PBKDF2](https://www.youtube.com/watch?v=yelMxr7UErk)\n",
    "* gpg, pgp, openssh applications all use it.\n",
    "* pbkdf2, bcrypt, and scrypt all use this same algorithm.\n",
    "\n",
    "Why PBKDF2?\n",
    "\n",
    "[\" PBKDF2 with 2048 rounds makes bruteforcing it 2049x harder\"](https://www.reddit.com/r/Bitcoin/comments/2cm3zu/does_anyone_know_why_trezor_used_pbkdf2_in_the/cjgszrv/) and because the [recovery process](https://www.reddit.com/r/Bitcoin/comments/2cm3zu/does_anyone_know_why_trezor_used_pbkdf2_in_the/cjgtvpb/) will cause the user to leak their 24 words in random order (so brute forcing would take 24! = 620448401733239439360000 iterations)\n"
   ]
  },
  {
   "cell_type": "code",
   "execution_count": 111,
   "metadata": {},
   "outputs": [],
   "source": [
    "def normalize_string(txt):\n",
    "    if isinstance(txt, bytes):\n",
    "        utxt = txt.decode('utf8')\n",
    "    elif isinstance(txt, str):\n",
    "        utxt = txt\n",
    "    else:\n",
    "        raise TypeError(\"String value expected\")\n",
    "        \n",
    "    return unicodedata.normalize('NFKD', utxt)\n",
    "\n",
    "def seed_from_mnemonic(mnemonic, passphrase=''):\n",
    "    mnemonic = normalize_string(mnemonic)\n",
    "    passphrase = normalize_string(passphrase)\n",
    "    return pbkdf2.PBKDF2(\n",
    "        mnemonic, u'mnemonic' + passphrase, \n",
    "        iterations=2048, \n",
    "        macmodule=hmac, \n",
    "        digestmodule=hashlib.sha512\n",
    "    ).read(64)\n"
   ]
  },
  {
   "cell_type": "code",
   "execution_count": 112,
   "metadata": {},
   "outputs": [
    {
     "data": {
      "text/plain": [
       "b'~\\x15@\\xbdjE\\xcbE\\xa0\\xdctu1:JS \\x17w\\x11\\xd6i\\xe3\\xa0\\x91\\x94\\xef]^\\xd8\\xff\\xbd\\n\\x04\\xdf;\\x81@\\xf6<\\x0e\\r?\\x9b\\x1f[\\xa1\\xb3\\xcd\\xc1\\x92\\xcf\\xc1\\x14\\xbf\\xba\\x90\\x0fa\\xbe\\x11\\xb5\\x88\\xcd'"
      ]
     },
     "execution_count": 112,
     "metadata": {},
     "output_type": "execute_result"
    }
   ],
   "source": [
    "seed = seed_from_mnemonic(mnemonic)\n",
    "seed"
   ]
  },
  {
   "cell_type": "code",
   "execution_count": null,
   "metadata": {},
   "outputs": [],
   "source": []
  }
 ],
 "metadata": {
  "kernelspec": {
   "display_name": "Python 3",
   "language": "python",
   "name": "python3"
  },
  "language_info": {
   "codemirror_mode": {
    "name": "ipython",
    "version": 3
   },
   "file_extension": ".py",
   "mimetype": "text/x-python",
   "name": "python",
   "nbconvert_exporter": "python",
   "pygments_lexer": "ipython3",
   "version": "3.6.5"
  }
 },
 "nbformat": 4,
 "nbformat_minor": 2
}
