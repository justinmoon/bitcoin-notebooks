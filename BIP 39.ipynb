{
 "cells": [
  {
   "cell_type": "markdown",
   "metadata": {},
   "source": [
    "### BIP 39 Reference:\n",
    "* [The BIP](https://github.com/bitcoin/bips/blob/master/bip-0039.mediawiki)\n",
    "* [Original Python Reference Implementation](https://github.com/trezor/python-mnemonic/blob/master/mnemonic/mnemonic.py)\n",
    "* [Go](https://github.com/tyler-smith/go-bip39)\n",
    "* [Javascript](https://github.com/iancoleman/jsbip39/blob/master/jsbip39.js)\n",
    "* [Blog Post](https://jmcintyre.net/?p=180)\n",
    "* [bitcoinlib-js](https://github.com/bitcoinjs/bip39/blob/master/index.js#L93) has the cleanest implementation."
   ]
  },
  {
   "cell_type": "code",
   "execution_count": 33,
   "metadata": {},
   "outputs": [
    {
     "name": "stdout",
     "output_type": "stream",
     "text": [
      "The autoreload extension is already loaded. To reload it, use:\n",
      "  %reload_ext autoreload\n"
     ]
    }
   ],
   "source": [
    "%load_ext autoreload\n",
    "%autoreload 2\n",
    "import requests, os, binascii, hashlib, unicodedata, pbkdf2, hmac, pycoin, struct"
   ]
  },
  {
   "cell_type": "markdown",
   "metadata": {},
   "source": [
    "# Grab English Wordlist From BIP Git Repo"
   ]
  },
  {
   "cell_type": "code",
   "execution_count": 34,
   "metadata": {},
   "outputs": [],
   "source": [
    "english_wordlist_url = \"https://raw.githubusercontent.com/bitcoin/bips/master/bip-0039/english.txt\"\n",
    "response = requests.get(english_wordlist_url)\n",
    "wordlist = response.text.splitlines()\n",
    "assert len(wordlist) == 2048"
   ]
  },
  {
   "cell_type": "markdown",
   "metadata": {},
   "source": [
    "# Produce Mnemonic From Random Bytes"
   ]
  },
  {
   "cell_type": "code",
   "execution_count": 35,
   "metadata": {},
   "outputs": [],
   "source": [
    "def generate_entropy(n):\n",
    "    return os.urandom(n)\n",
    "\n",
    "def mnemonic_from_entropy(entropy_bytes):\n",
    "    entropy_bits_length = len(entropy_bytes) * 8\n",
    "    checksum_bits_length = entropy_bits_length // 32\n",
    "    sequence_length = (entropy_bits_length + checksum_bits_length) // 11\n",
    "    \n",
    "    # Prepare entropy bits\n",
    "    entropy_bits = bin(int(binascii.hexlify(entropy), 16))[2:]\n",
    "    padded_entropy_bits = entropy_bits.zfill(entropy_bits_length)\n",
    "    \n",
    "    # Prepare checksum\n",
    "    entropy_hash = hashlib.sha256(entropy).hexdigest()\n",
    "    entropy_hash_int = int(entropy_hash, 16)\n",
    "    entropy_hash_bits = bin(int(entropy_hash, 16))[2:]\n",
    "    padded_entropy_hash_bits = entropy_hash_bits.zfill(256)\n",
    "    checksum = padded_entropy_hash_bits[:checksum_bits_length]\n",
    "    \n",
    "    # Take 11 bit slices of padded_entropy_bits + checksum\n",
    "    # Interpret as int, pluck work from wordlist at this index\n",
    "    sequence = padded_entropy_bits + checksum\n",
    "    result = []\n",
    "    for i in range(sequence_length):\n",
    "        index = int(sequence[i * 11:(i + 1) * 11], 2)\n",
    "        result.append(wordlist[index])\n",
    "    return \" \".join(result)"
   ]
  },
  {
   "cell_type": "code",
   "execution_count": 36,
   "metadata": {},
   "outputs": [
    {
     "data": {
      "text/plain": [
       "b'\\xa9\\n\\xa4\\xfa\\x8d\\xabu\\xc9\\xb3\\xf3\\xfc5\\xaf;P\\x80@CgF\\x82\\x83\\x03\\xf79\\xba\\xedQt\\xacq)'"
      ]
     },
     "execution_count": 36,
     "metadata": {},
     "output_type": "execute_result"
    }
   ],
   "source": [
    "entropy = generate_entropy(32)\n",
    "entropy"
   ]
  },
  {
   "cell_type": "code",
   "execution_count": 37,
   "metadata": {},
   "outputs": [
    {
     "data": {
      "text/plain": [
       "'poverty festival dirt brave resemble tooth sound legend cup keep stage above aerobic recipe borrow expire advance right huge survey blanket file seven devote'"
      ]
     },
     "execution_count": 37,
     "metadata": {},
     "output_type": "execute_result"
    }
   ],
   "source": [
    "mnemonic = mnemonic_from_entropy(entropy)\n",
    "mnemonic"
   ]
  },
  {
   "cell_type": "markdown",
   "metadata": {},
   "source": [
    "# Produce Seed From Mnemonic\n",
    "\n",
    "BIP 39 uses a the PBKDF2 key-stretching algorithm to take the mnemonic seed (128, 192, or 256 bits) and a passphrase and produce a 512 bit \"seed\" which is then used to create BIP 32 HD Wallets.\n",
    "\n",
    "[Here's a nice video about PBKDF2](https://www.youtube.com/watch?v=yelMxr7UErk)\n",
    "* gpg, pgp, openssh applications all use it.\n",
    "* pbkdf2, bcrypt, and scrypt all use this same algorithm.\n",
    "\n",
    "Why PBKDF2?\n",
    "\n",
    "[\" PBKDF2 with 2048 rounds makes bruteforcing it 2049x harder\"](https://www.reddit.com/r/Bitcoin/comments/2cm3zu/does_anyone_know_why_trezor_used_pbkdf2_in_the/cjgszrv/) and because the [recovery process](https://www.reddit.com/r/Bitcoin/comments/2cm3zu/does_anyone_know_why_trezor_used_pbkdf2_in_the/cjgtvpb/) will cause the user to leak their 24 words in random order (so brute forcing would take 24! = 620448401733239439360000 iterations)\n"
   ]
  },
  {
   "cell_type": "code",
   "execution_count": 38,
   "metadata": {},
   "outputs": [],
   "source": [
    "def normalize_string(txt):\n",
    "    if isinstance(txt, bytes):\n",
    "        utxt = txt.decode('utf8')\n",
    "    elif isinstance(txt, str):\n",
    "        utxt = txt\n",
    "    else:\n",
    "        raise TypeError(\"String value expected\")\n",
    "        \n",
    "    return unicodedata.normalize('NFKD', utxt)\n",
    "\n",
    "def seed_from_mnemonic(mnemonic, passphrase=''):\n",
    "    mnemonic = normalize_string(mnemonic)\n",
    "    passphrase = normalize_string(passphrase)\n",
    "    # FIXME: use hashlib implementation\n",
    "    return pbkdf2.PBKDF2(\n",
    "        mnemonic, u'mnemonic' + passphrase, \n",
    "        iterations=2048, \n",
    "        macmodule=hmac, \n",
    "        digestmodule=hashlib.sha512\n",
    "    ).read(64)\n"
   ]
  },
  {
   "cell_type": "code",
   "execution_count": 39,
   "metadata": {},
   "outputs": [
    {
     "data": {
      "text/plain": [
       "b'Z\\xfaoU\\xf4*\\xd2\\x1e\\xfc\\xf3\\n\\x8b\\xb4\\r\\xfeB\\x82\\xc5\\xcb\\xb8\\x8dM7L\\r\\xf8\\x06\\xccy\\xef\\xa9\\x02+U\\xcd\\xfd\\xa01\\xe1\\xd1\\x85\\xa5\\xdbD\\xf9\"s\\xbe\\xeb\\xde?x]\\xa1\\xebn^,\\xc9\\xba\\x1d5\\xcc|'"
      ]
     },
     "execution_count": 39,
     "metadata": {},
     "output_type": "execute_result"
    }
   ],
   "source": [
    "seed = seed_from_mnemonic(mnemonic)\n",
    "seed"
   ]
  },
  {
   "cell_type": "markdown",
   "metadata": {},
   "source": [
    "# Master HD Wallet From Seed"
   ]
  },
  {
   "cell_type": "code",
   "execution_count": 40,
   "metadata": {},
   "outputs": [],
   "source": [
    "from pycoin.key.BIP32Node import BIP32Node"
   ]
  },
  {
   "cell_type": "code",
   "execution_count": 41,
   "metadata": {},
   "outputs": [],
   "source": [
    "root = BIP32Node.from_master_secret(seed)"
   ]
  },
  {
   "cell_type": "code",
   "execution_count": 42,
   "metadata": {},
   "outputs": [
    {
     "data": {
      "text/plain": [
       "'Kwfpd5M3HU6Jk28S5vS8eBvDyEJDtZ984XHWKfaCp1RMehEoHdBU'"
      ]
     },
     "execution_count": 42,
     "metadata": {},
     "output_type": "execute_result"
    }
   ],
   "source": [
    "root.wif()"
   ]
  },
  {
   "cell_type": "code",
   "execution_count": 43,
   "metadata": {},
   "outputs": [
    {
     "data": {
      "text/plain": [
       "0"
      ]
     },
     "execution_count": 43,
     "metadata": {},
     "output_type": "execute_result"
    }
   ],
   "source": [
    "root.child_index()"
   ]
  },
  {
   "cell_type": "code",
   "execution_count": 44,
   "metadata": {},
   "outputs": [
    {
     "name": "stdout",
     "output_type": "stream",
     "text": [
      "10\n"
     ]
    }
   ],
   "source": [
    "tenth_child = root.subkey(i=10)"
   ]
  },
  {
   "cell_type": "code",
   "execution_count": 45,
   "metadata": {},
   "outputs": [
    {
     "data": {
      "text/plain": [
       "10"
      ]
     },
     "execution_count": 45,
     "metadata": {},
     "output_type": "execute_result"
    }
   ],
   "source": [
    "tenth_child.child_index()"
   ]
  },
  {
   "cell_type": "code",
   "execution_count": 46,
   "metadata": {},
   "outputs": [
    {
     "data": {
      "text/plain": [
       "b'0D\\x02 \\x0c^\\xca\\x99\\xa5l\\x05\\x8aZ\\xa8\\x0b\\xa0\\xf55\\xfa_6\\x83A\\x9b\\xaa\\xd2\\xd7\\x1a\\xcc\\x13%\\xcfu\\x19S\\x00\\x02 6\\xdeX\\xb0S\\x1b}o\\xf6?\\xd6\\x0b\\x91\\xbbSR\\xd2nXyf#\\x7f\\x1d\\xd5\\xd3vf\\x00\\xa9\\xe8;'"
      ]
     },
     "execution_count": 46,
     "metadata": {},
     "output_type": "execute_result"
    }
   ],
   "source": [
    "message = b\"Hello, world!\"\n",
    "\n",
    "sig = root.sign(message)\n",
    "sig"
   ]
  },
  {
   "cell_type": "code",
   "execution_count": 47,
   "metadata": {},
   "outputs": [
    {
     "data": {
      "text/plain": [
       "True"
      ]
     },
     "execution_count": 47,
     "metadata": {},
     "output_type": "execute_result"
    }
   ],
   "source": [
    "root.verify(message, sig)"
   ]
  },
  {
   "cell_type": "code",
   "execution_count": 48,
   "metadata": {},
   "outputs": [],
   "source": [
    "child_sig = tenth_child.sign(message)"
   ]
  },
  {
   "cell_type": "code",
   "execution_count": 49,
   "metadata": {},
   "outputs": [
    {
     "data": {
      "text/plain": [
       "True"
      ]
     },
     "execution_count": 49,
     "metadata": {},
     "output_type": "execute_result"
    }
   ],
   "source": [
    "tenth_child.verify(message, child_sig)"
   ]
  },
  {
   "cell_type": "code",
   "execution_count": 50,
   "metadata": {},
   "outputs": [
    {
     "data": {
      "text/plain": [
       "True"
      ]
     },
     "execution_count": 50,
     "metadata": {},
     "output_type": "execute_result"
    }
   ],
   "source": [
    "root.subkey(i=10).verify(message, child_sig)"
   ]
  },
  {
   "cell_type": "code",
   "execution_count": 51,
   "metadata": {},
   "outputs": [
    {
     "ename": "EncodingError",
     "evalue": "bad wallet key header",
     "output_type": "error",
     "traceback": [
      "\u001b[0;31m---------------------------------------------------------------------------\u001b[0m",
      "\u001b[0;31mEncodingError\u001b[0m                             Traceback (most recent call last)",
      "\u001b[0;32m<ipython-input-51-53e92c35fca2>\u001b[0m in \u001b[0;36m<module>\u001b[0;34m()\u001b[0m\n\u001b[0;32m----> 1\u001b[0;31m \u001b[0mBIP32Node\u001b[0m\u001b[0;34m.\u001b[0m\u001b[0mfrom_wallet_key\u001b[0m\u001b[0;34m(\u001b[0m\u001b[0mroot\u001b[0m\u001b[0;34m.\u001b[0m\u001b[0mwif\u001b[0m\u001b[0;34m(\u001b[0m\u001b[0;34m)\u001b[0m\u001b[0;34m)\u001b[0m\u001b[0;34m\u001b[0m\u001b[0m\n\u001b[0m",
      "\u001b[0;32m~/.local/share/virtualenvs/bitcoin-notebooks-q_oiQ2DW/lib/python3.6/site-packages/pycoin/key/BIP32Node.py\u001b[0m in \u001b[0;36mfrom_hwif\u001b[0;34m(class_, b58_str, allow_subkey_suffix)\u001b[0m\n\u001b[1;32m     77\u001b[0m \u001b[0;34m\u001b[0m\u001b[0m\n\u001b[1;32m     78\u001b[0m         \u001b[0;32mif\u001b[0m \u001b[0mkey_type\u001b[0m \u001b[0;32mnot\u001b[0m \u001b[0;32min\u001b[0m \u001b[0;34m(\u001b[0m\u001b[0;34m\"pub32\"\u001b[0m\u001b[0;34m,\u001b[0m \u001b[0;34m\"prv32\"\u001b[0m\u001b[0;34m)\u001b[0m\u001b[0;34m:\u001b[0m\u001b[0;34m\u001b[0m\u001b[0m\n\u001b[0;32m---> 79\u001b[0;31m             \u001b[0;32mraise\u001b[0m \u001b[0mEncodingError\u001b[0m\u001b[0;34m(\u001b[0m\u001b[0;34m\"bad wallet key header\"\u001b[0m\u001b[0;34m)\u001b[0m\u001b[0;34m\u001b[0m\u001b[0m\n\u001b[0m\u001b[1;32m     80\u001b[0m \u001b[0;34m\u001b[0m\u001b[0m\n\u001b[1;32m     81\u001b[0m         \u001b[0mis_private\u001b[0m \u001b[0;34m=\u001b[0m \u001b[0;34m(\u001b[0m\u001b[0mkey_type\u001b[0m \u001b[0;34m==\u001b[0m \u001b[0;34m'prv32'\u001b[0m\u001b[0;34m)\u001b[0m\u001b[0;34m\u001b[0m\u001b[0m\n",
      "\u001b[0;31mEncodingError\u001b[0m: bad wallet key header"
     ]
    }
   ],
   "source": [
    "BIP32Node.from_wallet_key(root.wif())"
   ]
  },
  {
   "cell_type": "markdown",
   "metadata": {},
   "source": [
    "# Wallet Class"
   ]
  },
  {
   "cell_type": "code",
   "execution_count": 53,
   "metadata": {},
   "outputs": [],
   "source": [
    "import ecdsa\n",
    "\n",
    "class Wallet:\n",
    "    \n",
    "    def __init__(self, private_key):\n",
    "        self.private_key = private_key\n",
    "        \n",
    "    def sign(self, message):\n",
    "        sk = ecdsa.SigningKey.from_string(self.private_key, curve=ecdsa.SECP256k1)\n",
    "        return sk.sign(message)\n",
    "    \n",
    "    def verify(self, signature, message):\n",
    "        sk = ecdsa.SigningKey.from_string(self.private_key, curve=ecdsa.SECP256k1)\n",
    "        vk = sk.get_verifying_key()\n",
    "        return vk.verify(signature, message)\n",
    "    \n",
    "    @classmethod\n",
    "    def generate(cls):\n",
    "        private_key = os.urandom(32)\n",
    "        return cls(private_key)"
   ]
  },
  {
   "cell_type": "code",
   "execution_count": 103,
   "metadata": {},
   "outputs": [
    {
     "data": {
      "text/plain": [
       "True"
      ]
     },
     "execution_count": 103,
     "metadata": {},
     "output_type": "execute_result"
    }
   ],
   "source": [
    "pk = os.urandom(32)\n",
    "\n",
    "wallet = Wallet(pk)\n",
    "sig = wallet.sign(message)\n",
    "wallet.verify(sig, message)"
   ]
  },
  {
   "cell_type": "markdown",
   "metadata": {},
   "source": [
    "# Sequential Deterministic Wallet Class"
   ]
  },
  {
   "cell_type": "code",
   "execution_count": 57,
   "metadata": {},
   "outputs": [],
   "source": [
    "class SDWallet(Wallet):\n",
    "    \n",
    "    def child(self, n):\n",
    "        private_key = self.private_key\n",
    "        for _ in range(n):\n",
    "            private_key = hashlib.sha256(private_key).digest()\n",
    "        return SDWallet(private_key)"
   ]
  },
  {
   "cell_type": "code",
   "execution_count": 58,
   "metadata": {},
   "outputs": [
    {
     "name": "stdout",
     "output_type": "stream",
     "text": [
      "sd1's 100th child:  b'\\xba\\xbb\\x92\\xd8S6M\\n\\x03\\x91\\xf2\\xa8\\x7fp\\x89=Z\\x08\\xbdO\\x8b\\x9a\\x87\\x12=\\xccjV\\xc3e\\xcf\\xd9'\n",
      "sd2's 100th child:  b'\\xba\\xbb\\x92\\xd8S6M\\n\\x03\\x91\\xf2\\xa8\\x7fp\\x89=Z\\x08\\xbdO\\x8b\\x9a\\x87\\x12=\\xccjV\\xc3e\\xcf\\xd9'\n"
     ]
    }
   ],
   "source": [
    "private_key = os.urandom(32)\n",
    "\n",
    "sd1 = SDWallet(private_key)\n",
    "sd2 = SDWallet(private_key)\n",
    "\n",
    "sd1_child = sd1.child(100)\n",
    "print(\"sd1's 100th child: \", sd1_child.private_key)\n",
    "\n",
    "sd2_child = sd2.child(100)\n",
    "print(\"sd2's 100th child: \", sd2_child.private_key)\n",
    "\n",
    "assert sd1_child.private_key == sd2_child.private_key"
   ]
  },
  {
   "cell_type": "code",
   "execution_count": 102,
   "metadata": {},
   "outputs": [
    {
     "data": {
      "text/plain": [
       "True"
      ]
     },
     "execution_count": 102,
     "metadata": {},
     "output_type": "execute_result"
    }
   ],
   "source": [
    "# have one sign and the other verify\n",
    "\n",
    "sig = sd1_child.sign(message)\n",
    "sd2_child.verify(sig, message)"
   ]
  },
  {
   "cell_type": "markdown",
   "metadata": {},
   "source": [
    "# Implementing Hierarchical Deterministic Wallet Class"
   ]
  },
  {
   "cell_type": "code",
   "execution_count": 202,
   "metadata": {},
   "outputs": [],
   "source": [
    "class HDWallet(Wallet):\n",
    "    \n",
    "    def __init__(self, private_key, chain_code):\n",
    "        super().__init__(private_key)\n",
    "        self.chain_code = chain_code\n",
    "        \n",
    "    def child(self, i):\n",
    "        # ???\n",
    "        i &= 0x7fffffff\n",
    "#         if is_hardened:\n",
    "        i |= 0x80000000            \n",
    "        exponent, chain_code = get_child(self.private_key, \n",
    "                                         self.chain_code, \n",
    "                                         i)\n",
    "        private_key = exponent.to_bytes(32, 'big')\n",
    "        return HDWallet(private_key, chain_code)\n",
    "        "
   ]
  },
  {
   "cell_type": "code",
   "execution_count": 203,
   "metadata": {},
   "outputs": [],
   "source": [
    "ORDER = ecdsa.SECP256k1.order\n",
    "\n",
    "def get_child(private_key, chain_code_bytes, index):\n",
    "    index_bytes = struct.pack(\">L\", index)\n",
    "    secret_exponent = int.from_bytes(private_key, 'big')\n",
    "    # assume hardened\n",
    "    # (private key is already bytes)\n",
    "    data = b\"\\0\" + private_key + index_bytes\n",
    "    I64 = hmac.HMAC(key=chain_code_bytes, msg=data, \n",
    "                    digestmod=hashlib.sha512).digest()\n",
    "    I_left_as_exponent = int.from_bytes(I64[:32], 'big') % ORDER\n",
    "    new_secret_exponent = (I_left_as_exponent + secret_exponent) % ORDER\n",
    "    new_chain_code = I64[32:]\n",
    "\n",
    "    return new_secret_exponent, new_chain_code"
   ]
  },
  {
   "cell_type": "code",
   "execution_count": 204,
   "metadata": {},
   "outputs": [],
   "source": [
    "private_key = os.urandom(32)\n",
    "chain_code = os.urandom(32)\n",
    "\n",
    "master = private_key + chain_code\n",
    "\n",
    "secret_exponent = int.from_bytes(private_key, 'big')"
   ]
  },
  {
   "cell_type": "code",
   "execution_count": 205,
   "metadata": {},
   "outputs": [
    {
     "data": {
      "text/plain": [
       "(98482421347336734816519984682249778218199734341333331790371239960046428985489,\n",
       " b\"\\xcc\\x1eR\\x112y'\\xfc\\xae\\x04=&\\xd1N\\x9eh\\xd2\\xf9+\\xf9v\\x19\\xd9h..\\xbe\\xcfU\\xc0\\xc8\\xb5\")"
      ]
     },
     "execution_count": 205,
     "metadata": {},
     "output_type": "execute_result"
    }
   ],
   "source": [
    "mine = get_child(private_key, chain_code, 0)\n",
    "mine"
   ]
  },
  {
   "cell_type": "code",
   "execution_count": 206,
   "metadata": {},
   "outputs": [],
   "source": [
    "import pycoin\n",
    "\n",
    "theirs = pycoin.key.bip32.subkey_secret_exponent_chain_code_pair(\n",
    "    secret_exponent,\n",
    "    chain_code,\n",
    "    0,\n",
    "    True,\n",
    ")"
   ]
  },
  {
   "cell_type": "code",
   "execution_count": 207,
   "metadata": {},
   "outputs": [
    {
     "data": {
      "text/plain": [
       "True"
      ]
     },
     "execution_count": 207,
     "metadata": {},
     "output_type": "execute_result"
    }
   ],
   "source": [
    "mine == theirs"
   ]
  },
  {
   "cell_type": "code",
   "execution_count": 208,
   "metadata": {},
   "outputs": [
    {
     "data": {
      "text/plain": [
       "(b'\\xb5\\xa9x\\xd1\\xde\\x98\\x1ca\\x97\\xaf\\xf7\\x9a\\xa5\\xe9\\x16 \\xdd\\xdb?\\x1f\\xad\\x1d\\x11\\x9b\\xcbB\\xa4;\\xdc\\xe6\\xcex',\n",
       " b'\\xd9 :\\x90\\xda\\x07\\xf2=u\\x90\\x98#fF\\r\\xc4\\xb5\\x8d\\xf0\\xce\\xea3\\x10\\x03.DA\\xee\\xe9\\xd1c\\xa1')"
      ]
     },
     "execution_count": 208,
     "metadata": {},
     "output_type": "execute_result"
    }
   ],
   "source": [
    "myhd = HDWallet(private_key, chain_code)\n",
    "mychild = myhd.child(5)\n",
    "mychild.private_key, mychild.chain_code"
   ]
  },
  {
   "cell_type": "code",
   "execution_count": 209,
   "metadata": {},
   "outputs": [],
   "source": [
    "from pycoin.key.BIP32Node import BIP32Node\n",
    "\n",
    "theirhd = BIP32Node(netcode=0, chain_code=chain_code, secret_exponent=secret_exponent)"
   ]
  },
  {
   "cell_type": "code",
   "execution_count": 210,
   "metadata": {},
   "outputs": [
    {
     "data": {
      "text/plain": [
       "b'\\xd9 :\\x90\\xda\\x07\\xf2=u\\x90\\x98#fF\\r\\xc4\\xb5\\x8d\\xf0\\xce\\xea3\\x10\\x03.DA\\xee\\xe9\\xd1c\\xa1'"
      ]
     },
     "execution_count": 210,
     "metadata": {},
     "output_type": "execute_result"
    }
   ],
   "source": [
    "theirchild = theirhd.subkey(5, is_hardened=True, as_private=True)\n",
    "theirchild.chain_code()"
   ]
  },
  {
   "cell_type": "code",
   "execution_count": 211,
   "metadata": {},
   "outputs": [
    {
     "data": {
      "text/plain": [
       "True"
      ]
     },
     "execution_count": 211,
     "metadata": {},
     "output_type": "execute_result"
    }
   ],
   "source": [
    "int.from_bytes(mychild.private_key, 'big') == theirchild.secret_exponent()"
   ]
  },
  {
   "cell_type": "code",
   "execution_count": 212,
   "metadata": {},
   "outputs": [
    {
     "data": {
      "text/plain": [
       "True"
      ]
     },
     "execution_count": 212,
     "metadata": {},
     "output_type": "execute_result"
    }
   ],
   "source": [
    "mychild.chain_code == theirchild.chain_code()"
   ]
  }
 ],
 "metadata": {
  "kernelspec": {
   "display_name": "Python 3",
   "language": "python",
   "name": "python3"
  },
  "language_info": {
   "codemirror_mode": {
    "name": "ipython",
    "version": 3
   },
   "file_extension": ".py",
   "mimetype": "text/x-python",
   "name": "python",
   "nbconvert_exporter": "python",
   "pygments_lexer": "ipython3",
   "version": "3.6.5"
  }
 },
 "nbformat": 4,
 "nbformat_minor": 2
}
